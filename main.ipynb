{
 "cells": [
  {
   "cell_type": "code",
   "execution_count": 1,
   "metadata": {},
   "outputs": [],
   "source": [
    "import pandas as pd\n",
    "import matplotlib.pyplot as plt\n",
    "import seaborn as sns\n",
    "import numpy as np\n",
    "\n",
    "from sklearn.preprocessing import OneHotEncoder\n",
    "from sklearn.model_selection import StratifiedShuffleSplit\n",
    "from sklearn.preprocessing import StandardScaler\n",
    "from sklearn.impute import KNNImputer\n",
    "from sklearn.metrics import accuracy_score, f1_score, classification_report, log_loss, confusion_matrix\n",
    "from sklearn.utils.class_weight import compute_sample_weight\n",
    "\n",
    "from sklearn.ensemble import GradientBoostingClassifier\n",
    "import lightgbm as lgb\n"
   ]
  },
  {
   "cell_type": "code",
   "execution_count": 2,
   "metadata": {},
   "outputs": [],
   "source": [
    "train = pd.read_csv('./data/train.csv')\n",
    "greeks = pd.read_csv('./data/greeks.csv')\n",
    "test = pd.read_csv('./data/test.csv')"
   ]
  },
  {
   "cell_type": "code",
   "execution_count": 3,
   "metadata": {},
   "outputs": [
    {
     "data": {
      "text/html": [
       "<div>\n",
       "<style scoped>\n",
       "    .dataframe tbody tr th:only-of-type {\n",
       "        vertical-align: middle;\n",
       "    }\n",
       "\n",
       "    .dataframe tbody tr th {\n",
       "        vertical-align: top;\n",
       "    }\n",
       "\n",
       "    .dataframe thead th {\n",
       "        text-align: right;\n",
       "    }\n",
       "</style>\n",
       "<table border=\"1\" class=\"dataframe\">\n",
       "  <thead>\n",
       "    <tr style=\"text-align: right;\">\n",
       "      <th></th>\n",
       "      <th>Id</th>\n",
       "      <th>AB</th>\n",
       "      <th>AF</th>\n",
       "      <th>AH</th>\n",
       "      <th>AM</th>\n",
       "      <th>AR</th>\n",
       "      <th>AX</th>\n",
       "      <th>AY</th>\n",
       "      <th>AZ</th>\n",
       "      <th>BC</th>\n",
       "      <th>...</th>\n",
       "      <th>FL</th>\n",
       "      <th>FR</th>\n",
       "      <th>FS</th>\n",
       "      <th>GB</th>\n",
       "      <th>GE</th>\n",
       "      <th>GF</th>\n",
       "      <th>GH</th>\n",
       "      <th>GI</th>\n",
       "      <th>GL</th>\n",
       "      <th>Class</th>\n",
       "    </tr>\n",
       "  </thead>\n",
       "  <tbody>\n",
       "    <tr>\n",
       "      <th>0</th>\n",
       "      <td>000ff2bfdfe9</td>\n",
       "      <td>0.209377</td>\n",
       "      <td>3109.03329</td>\n",
       "      <td>85.200147</td>\n",
       "      <td>22.394407</td>\n",
       "      <td>8.138688</td>\n",
       "      <td>0.699861</td>\n",
       "      <td>0.025578</td>\n",
       "      <td>9.812214</td>\n",
       "      <td>5.555634</td>\n",
       "      <td>...</td>\n",
       "      <td>7.298162</td>\n",
       "      <td>1.73855</td>\n",
       "      <td>0.094822</td>\n",
       "      <td>11.339138</td>\n",
       "      <td>72.611063</td>\n",
       "      <td>2003.810319</td>\n",
       "      <td>22.136229</td>\n",
       "      <td>69.834944</td>\n",
       "      <td>0.120343</td>\n",
       "      <td>1</td>\n",
       "    </tr>\n",
       "    <tr>\n",
       "      <th>1</th>\n",
       "      <td>007255e47698</td>\n",
       "      <td>0.145282</td>\n",
       "      <td>978.76416</td>\n",
       "      <td>85.200147</td>\n",
       "      <td>36.968889</td>\n",
       "      <td>8.138688</td>\n",
       "      <td>3.632190</td>\n",
       "      <td>0.025578</td>\n",
       "      <td>13.517790</td>\n",
       "      <td>1.229900</td>\n",
       "      <td>...</td>\n",
       "      <td>0.173229</td>\n",
       "      <td>0.49706</td>\n",
       "      <td>0.568932</td>\n",
       "      <td>9.292698</td>\n",
       "      <td>72.611063</td>\n",
       "      <td>27981.562750</td>\n",
       "      <td>29.135430</td>\n",
       "      <td>32.131996</td>\n",
       "      <td>21.978000</td>\n",
       "      <td>0</td>\n",
       "    </tr>\n",
       "    <tr>\n",
       "      <th>2</th>\n",
       "      <td>013f2bd269f5</td>\n",
       "      <td>0.470030</td>\n",
       "      <td>2635.10654</td>\n",
       "      <td>85.200147</td>\n",
       "      <td>32.360553</td>\n",
       "      <td>8.138688</td>\n",
       "      <td>6.732840</td>\n",
       "      <td>0.025578</td>\n",
       "      <td>12.824570</td>\n",
       "      <td>1.229900</td>\n",
       "      <td>...</td>\n",
       "      <td>7.709560</td>\n",
       "      <td>0.97556</td>\n",
       "      <td>1.198821</td>\n",
       "      <td>37.077772</td>\n",
       "      <td>88.609437</td>\n",
       "      <td>13676.957810</td>\n",
       "      <td>28.022851</td>\n",
       "      <td>35.192676</td>\n",
       "      <td>0.196941</td>\n",
       "      <td>0</td>\n",
       "    </tr>\n",
       "    <tr>\n",
       "      <th>3</th>\n",
       "      <td>043ac50845d5</td>\n",
       "      <td>0.252107</td>\n",
       "      <td>3819.65177</td>\n",
       "      <td>120.201618</td>\n",
       "      <td>77.112203</td>\n",
       "      <td>8.138688</td>\n",
       "      <td>3.685344</td>\n",
       "      <td>0.025578</td>\n",
       "      <td>11.053708</td>\n",
       "      <td>1.229900</td>\n",
       "      <td>...</td>\n",
       "      <td>6.122162</td>\n",
       "      <td>0.49706</td>\n",
       "      <td>0.284466</td>\n",
       "      <td>18.529584</td>\n",
       "      <td>82.416803</td>\n",
       "      <td>2094.262452</td>\n",
       "      <td>39.948656</td>\n",
       "      <td>90.493248</td>\n",
       "      <td>0.155829</td>\n",
       "      <td>0</td>\n",
       "    </tr>\n",
       "    <tr>\n",
       "      <th>4</th>\n",
       "      <td>044fb8a146ec</td>\n",
       "      <td>0.380297</td>\n",
       "      <td>3733.04844</td>\n",
       "      <td>85.200147</td>\n",
       "      <td>14.103738</td>\n",
       "      <td>8.138688</td>\n",
       "      <td>3.942255</td>\n",
       "      <td>0.054810</td>\n",
       "      <td>3.396778</td>\n",
       "      <td>102.151980</td>\n",
       "      <td>...</td>\n",
       "      <td>8.153058</td>\n",
       "      <td>48.50134</td>\n",
       "      <td>0.121914</td>\n",
       "      <td>16.408728</td>\n",
       "      <td>146.109943</td>\n",
       "      <td>8524.370502</td>\n",
       "      <td>45.381316</td>\n",
       "      <td>36.262628</td>\n",
       "      <td>0.096614</td>\n",
       "      <td>1</td>\n",
       "    </tr>\n",
       "  </tbody>\n",
       "</table>\n",
       "<p>5 rows × 58 columns</p>\n",
       "</div>"
      ],
      "text/plain": [
       "             Id        AB          AF          AH         AM        AR  \\\n",
       "0  000ff2bfdfe9  0.209377  3109.03329   85.200147  22.394407  8.138688   \n",
       "1  007255e47698  0.145282   978.76416   85.200147  36.968889  8.138688   \n",
       "2  013f2bd269f5  0.470030  2635.10654   85.200147  32.360553  8.138688   \n",
       "3  043ac50845d5  0.252107  3819.65177  120.201618  77.112203  8.138688   \n",
       "4  044fb8a146ec  0.380297  3733.04844   85.200147  14.103738  8.138688   \n",
       "\n",
       "         AX        AY         AZ          BC  ...        FL        FR  \\\n",
       "0  0.699861  0.025578   9.812214    5.555634  ...  7.298162   1.73855   \n",
       "1  3.632190  0.025578  13.517790    1.229900  ...  0.173229   0.49706   \n",
       "2  6.732840  0.025578  12.824570    1.229900  ...  7.709560   0.97556   \n",
       "3  3.685344  0.025578  11.053708    1.229900  ...  6.122162   0.49706   \n",
       "4  3.942255  0.054810   3.396778  102.151980  ...  8.153058  48.50134   \n",
       "\n",
       "         FS         GB          GE            GF         GH         GI  \\\n",
       "0  0.094822  11.339138   72.611063   2003.810319  22.136229  69.834944   \n",
       "1  0.568932   9.292698   72.611063  27981.562750  29.135430  32.131996   \n",
       "2  1.198821  37.077772   88.609437  13676.957810  28.022851  35.192676   \n",
       "3  0.284466  18.529584   82.416803   2094.262452  39.948656  90.493248   \n",
       "4  0.121914  16.408728  146.109943   8524.370502  45.381316  36.262628   \n",
       "\n",
       "          GL  Class  \n",
       "0   0.120343      1  \n",
       "1  21.978000      0  \n",
       "2   0.196941      0  \n",
       "3   0.155829      0  \n",
       "4   0.096614      1  \n",
       "\n",
       "[5 rows x 58 columns]"
      ]
     },
     "execution_count": 3,
     "metadata": {},
     "output_type": "execute_result"
    }
   ],
   "source": [
    "train.head()"
   ]
  },
  {
   "cell_type": "code",
   "execution_count": 4,
   "metadata": {},
   "outputs": [],
   "source": [
    "train = train.set_index('Id')\n",
    "test = test.set_index('Id')\n",
    "greeks = greeks.set_index('Id')\n",
    "\n",
    "X = train.drop('Class', axis = 1)\n",
    "y = train['Class']"
   ]
  },
  {
   "cell_type": "code",
   "execution_count": 5,
   "metadata": {},
   "outputs": [
    {
     "name": "stdout",
     "output_type": "stream",
     "text": [
      "0    509\n",
      "1    108\n",
      "Name: Class, dtype: int64\n"
     ]
    }
   ],
   "source": [
    "print(y.value_counts())"
   ]
  },
  {
   "cell_type": "code",
   "execution_count": null,
   "metadata": {},
   "outputs": [],
   "source": [
    "data"
   ]
  },
  {
   "cell_type": "code",
   "execution_count": 6,
   "metadata": {},
   "outputs": [],
   "source": [
    "# X.hist(bins=100, figsize = [20,20])\n",
    "# \n",
    "# plt.show()"
   ]
  },
  {
   "cell_type": "code",
   "execution_count": 7,
   "metadata": {},
   "outputs": [],
   "source": [
    "# Correlation\n",
    "#fig, ax = plt.subplots(nrows = 1, ncols = 1, figsize = (20, 20))\n",
    "#corr = train.corr()\n",
    "#corr_strong = corr[corr.abs() > 0.5]\n",
    "#sns.heatmap(corr_strong, fmt=\".2f\", linewidths=1,linecolor='k',annot = True,  ax = ax)\n",
    "#\n",
    "#plt.show()"
   ]
  },
  {
   "cell_type": "code",
   "execution_count": 8,
   "metadata": {},
   "outputs": [
    {
     "name": "stdout",
     "output_type": "stream",
     "text": [
      "EJ    object\n",
      "dtype: object\n"
     ]
    }
   ],
   "source": [
    "# Search for categorial features\n",
    "print(X.dtypes[X.dtypes != float])"
   ]
  },
  {
   "cell_type": "code",
   "execution_count": 9,
   "metadata": {},
   "outputs": [],
   "source": [
    "# Encode categorial object 'EJ' feature \n",
    "\n",
    "enc = OneHotEncoder()\n",
    "enc.fit(X['EJ'].values.reshape(-1, 1))\n",
    "onehot_cols = ['EJ' + '_' + x for x in enc.categories_[0]]\n",
    "\n",
    "X[onehot_cols] = enc.transform(X['EJ'].values.reshape(-1, 1)).toarray()\n",
    "X = X.drop('EJ', axis = 1)\n",
    "\n",
    "test[onehot_cols] = enc.transform(test['EJ'].values.reshape(-1, 1)).toarray()\n",
    "test = test.drop('EJ', axis = 1)"
   ]
  },
  {
   "cell_type": "code",
   "execution_count": 10,
   "metadata": {},
   "outputs": [
    {
     "data": {
      "text/plain": [
       "BQ    60\n",
       "CB     2\n",
       "CC     3\n",
       "DU     1\n",
       "EL    60\n",
       "FC     1\n",
       "FL     1\n",
       "FS     2\n",
       "GL     1\n",
       "dtype: int64"
      ]
     },
     "execution_count": 10,
     "metadata": {},
     "output_type": "execute_result"
    }
   ],
   "source": [
    "# Check which features are missing and how many missing data points are there\n",
    "\n",
    "nas = X.isnull().sum()[X.isnull().sum() > 0]\n",
    "nas"
   ]
  },
  {
   "cell_type": "code",
   "execution_count": 11,
   "metadata": {},
   "outputs": [
    {
     "data": {
      "image/png": "[encoded data removed]",
      "text/plain": [
       "<Figure size 432x288 with 9 Axes>"
      ]
     },
     "metadata": {
      "needs_background": "light"
     },
     "output_type": "display_data"
    }
   ],
   "source": [
    "# Histogram of features with missing value for later comparison\n",
    "X[nas.index].hist()\n",
    "plt.tight_layout()"
   ]
  },
  {
   "cell_type": "code",
   "execution_count": 12,
   "metadata": {},
   "outputs": [],
   "source": [
    "# Since the features which contain missing values are not normally-distributed, we will use iterative imputer. \n",
    "imp = KNNImputer(weights = 'distance', n_neighbors=20) # weight by distance but use many neighbors\n",
    "X2 = pd.DataFrame(imp.fit_transform(X), index = X.index, columns = X.columns)"
   ]
  },
  {
   "cell_type": "code",
   "execution_count": 13,
   "metadata": {},
   "outputs": [
    {
     "data": {
      "image/png": "[encoded data removed]",
      "text/plain": [
       "<Figure size 432x288 with 2 Axes>"
      ]
     },
     "metadata": {
      "needs_background": "light"
     },
     "output_type": "display_data"
    }
   ],
   "source": [
    "# Let's examine the distribution of the added values compared to the old ones\n",
    "fig, axs = plt.subplots(nrows = 1, ncols = 2)\n",
    "axs = axs.ravel()\n",
    "for i, col in enumerate(nas[nas > 10].index):\n",
    "\n",
    "    axs[i].hist(X2[~X[col].isna()][col].values, density = True, alpha = 0.8)\n",
    "    axs[i].hist(X2[X[col].isna()][col].values, density = True, alpha = 0.8)\n",
    "\n",
    "plt.tight_layout()"
   ]
  },
  {
   "cell_type": "code",
   "execution_count": 14,
   "metadata": {},
   "outputs": [],
   "source": [
    "random_state = 42"
   ]
  },
  {
   "cell_type": "code",
   "execution_count": 18,
   "metadata": {},
   "outputs": [],
   "source": [
    "def class_weighted_log_loss(y_true,y_pred):\n",
    "    counts = np.bincount(y_true)\n",
    "    w0 = 1/counts[0]\n",
    "    w1 = 1/counts[1]\n",
    "    return log_loss(y_true,y_pred,sample_weight=np.where(y_true,w1,w0),eps=1e-15)"
   ]
  },
  {
   "cell_type": "code",
   "execution_count": 23,
   "metadata": {},
   "outputs": [
    {
     "ename": "IndexError",
     "evalue": "index 1 is out of bounds for axis 0 with size 1",
     "output_type": "error",
     "traceback": [
      "\u001b[0;31m---------------------------------------------------------------------------\u001b[0m",
      "\u001b[0;31mIndexError\u001b[0m                                Traceback (most recent call last)",
      "\u001b[0;32m<ipython-input-23-f44107dcb286>\u001b[0m in \u001b[0;36m<module>\u001b[0;34m\u001b[0m\n\u001b[0;32m----> 1\u001b[0;31m \u001b[0mclass_weighted_log_loss\u001b[0m\u001b[0;34m(\u001b[0m\u001b[0myhat_train\u001b[0m\u001b[0;34m,\u001b[0m \u001b[0my_train\u001b[0m\u001b[0;34m)\u001b[0m\u001b[0;31m#, class_weighted_log_loss(yhat_val, y_val)\u001b[0m\u001b[0;34m\u001b[0m\u001b[0;34m\u001b[0m\u001b[0m\n\u001b[0m",
      "\u001b[0;32m<ipython-input-18-0e1fd9570282>\u001b[0m in \u001b[0;36mclass_weighted_log_loss\u001b[0;34m(y_true, y_pred)\u001b[0m\n\u001b[1;32m      2\u001b[0m     \u001b[0mcounts\u001b[0m \u001b[0;34m=\u001b[0m \u001b[0mnp\u001b[0m\u001b[0;34m.\u001b[0m\u001b[0mbincount\u001b[0m\u001b[0;34m(\u001b[0m\u001b[0my_true\u001b[0m\u001b[0;34m)\u001b[0m\u001b[0;34m\u001b[0m\u001b[0;34m\u001b[0m\u001b[0m\n\u001b[1;32m      3\u001b[0m     \u001b[0mw0\u001b[0m \u001b[0;34m=\u001b[0m \u001b[0;36m1\u001b[0m\u001b[0;34m/\u001b[0m\u001b[0mcounts\u001b[0m\u001b[0;34m[\u001b[0m\u001b[0;36m0\u001b[0m\u001b[0;34m]\u001b[0m\u001b[0;34m\u001b[0m\u001b[0;34m\u001b[0m\u001b[0m\n\u001b[0;32m----> 4\u001b[0;31m     \u001b[0mw1\u001b[0m \u001b[0;34m=\u001b[0m \u001b[0;36m1\u001b[0m\u001b[0;34m/\u001b[0m\u001b[0mcounts\u001b[0m\u001b[0;34m[\u001b[0m\u001b[0;36m1\u001b[0m\u001b[0;34m]\u001b[0m\u001b[0;34m\u001b[0m\u001b[0;34m\u001b[0m\u001b[0m\n\u001b[0m\u001b[1;32m      5\u001b[0m     \u001b[0;32mreturn\u001b[0m \u001b[0mlog_loss\u001b[0m\u001b[0;34m(\u001b[0m\u001b[0my_true\u001b[0m\u001b[0;34m,\u001b[0m\u001b[0my_pred\u001b[0m\u001b[0;34m,\u001b[0m\u001b[0msample_weight\u001b[0m\u001b[0;34m=\u001b[0m\u001b[0mnp\u001b[0m\u001b[0;34m.\u001b[0m\u001b[0mwhere\u001b[0m\u001b[0;34m(\u001b[0m\u001b[0my_true\u001b[0m\u001b[0;34m,\u001b[0m\u001b[0mw1\u001b[0m\u001b[0;34m,\u001b[0m\u001b[0mw0\u001b[0m\u001b[0;34m)\u001b[0m\u001b[0;34m,\u001b[0m\u001b[0meps\u001b[0m\u001b[0;34m=\u001b[0m\u001b[0;36m1e-15\u001b[0m\u001b[0;34m)\u001b[0m\u001b[0;34m\u001b[0m\u001b[0;34m\u001b[0m\u001b[0m\n",
      "\u001b[0;31mIndexError\u001b[0m: index 1 is out of bounds for axis 0 with size 1"
     ]
    }
   ],
   "source": [
    "class_weighted_log_loss(yhat_train, y_train)#, class_weighted_log_loss(yhat_val, y_val)"
   ]
  },
  {
   "cell_type": "code",
   "execution_count": 26,
   "metadata": {},
   "outputs": [
    {
     "name": "stdout",
     "output_type": "stream",
     "text": [
      "[LightGBM] [Warning] Unknown parameter: n_estimatros\n"
     ]
    },
    {
     "ename": "IndexError",
     "evalue": "index 1 is out of bounds for axis 0 with size 1",
     "output_type": "error",
     "traceback": [
      "\u001b[0;31m---------------------------------------------------------------------------\u001b[0m",
      "\u001b[0;31mIndexError\u001b[0m                                Traceback (most recent call last)",
      "\u001b[0;32m<ipython-input-26-a584a8222af5>\u001b[0m in \u001b[0;36m<module>\u001b[0;34m\u001b[0m\n\u001b[1;32m     71\u001b[0m     \u001b[0mmatrix\u001b[0m\u001b[0;34m[\u001b[0m\u001b[0mval_name\u001b[0m\u001b[0;34m]\u001b[0m \u001b[0;34m=\u001b[0m \u001b[0mconfusion_matrix\u001b[0m\u001b[0;34m(\u001b[0m\u001b[0my_val\u001b[0m\u001b[0;34m,\u001b[0m \u001b[0myhat_val\u001b[0m\u001b[0;34m)\u001b[0m\u001b[0;34m\u001b[0m\u001b[0;34m\u001b[0m\u001b[0m\n\u001b[1;32m     72\u001b[0m \u001b[0;34m\u001b[0m\u001b[0m\n\u001b[0;32m---> 73\u001b[0;31m     \u001b[0mscore\u001b[0m\u001b[0;34m[\u001b[0m\u001b[0mi\u001b[0m\u001b[0;34m]\u001b[0m \u001b[0;34m=\u001b[0m \u001b[0;34m[\u001b[0m\u001b[0mf1_score\u001b[0m\u001b[0;34m(\u001b[0m\u001b[0myhat_train\u001b[0m\u001b[0;34m,\u001b[0m \u001b[0my_train\u001b[0m\u001b[0;34m)\u001b[0m\u001b[0;34m,\u001b[0m \u001b[0mf1_score\u001b[0m\u001b[0;34m(\u001b[0m\u001b[0myhat_val\u001b[0m\u001b[0;34m,\u001b[0m \u001b[0my_val\u001b[0m\u001b[0;34m)\u001b[0m\u001b[0;34m,\u001b[0m \u001b[0maccuracy_score\u001b[0m\u001b[0;34m(\u001b[0m\u001b[0myhat_train\u001b[0m\u001b[0;34m,\u001b[0m \u001b[0my_train\u001b[0m\u001b[0;34m)\u001b[0m\u001b[0;34m,\u001b[0m \u001b[0maccuracy_score\u001b[0m\u001b[0;34m(\u001b[0m\u001b[0myhat_val\u001b[0m\u001b[0;34m,\u001b[0m \u001b[0my_val\u001b[0m\u001b[0;34m)\u001b[0m\u001b[0;34m,\u001b[0m \u001b[0mclass_weighted_log_loss\u001b[0m\u001b[0;34m(\u001b[0m\u001b[0myhat_train\u001b[0m\u001b[0;34m,\u001b[0m \u001b[0my_train\u001b[0m\u001b[0;34m)\u001b[0m\u001b[0;34m,\u001b[0m \u001b[0mclass_weighted_log_loss\u001b[0m\u001b[0;34m(\u001b[0m\u001b[0myhat_val\u001b[0m\u001b[0;34m,\u001b[0m \u001b[0my_val\u001b[0m\u001b[0;34m)\u001b[0m\u001b[0;34m]\u001b[0m\u001b[0;34m\u001b[0m\u001b[0;34m\u001b[0m\u001b[0m\n\u001b[0m\u001b[1;32m     74\u001b[0m \u001b[0;34m\u001b[0m\u001b[0m\n\u001b[1;32m     75\u001b[0m     \u001b[0mmodels\u001b[0m\u001b[0;34m[\u001b[0m\u001b[0mi\u001b[0m\u001b[0;34m]\u001b[0m \u001b[0;34m=\u001b[0m \u001b[0mgb\u001b[0m\u001b[0;34m\u001b[0m\u001b[0;34m\u001b[0m\u001b[0m\n",
      "\u001b[0;32m<ipython-input-18-0e1fd9570282>\u001b[0m in \u001b[0;36mclass_weighted_log_loss\u001b[0;34m(y_true, y_pred)\u001b[0m\n\u001b[1;32m      2\u001b[0m     \u001b[0mcounts\u001b[0m \u001b[0;34m=\u001b[0m \u001b[0mnp\u001b[0m\u001b[0;34m.\u001b[0m\u001b[0mbincount\u001b[0m\u001b[0;34m(\u001b[0m\u001b[0my_true\u001b[0m\u001b[0;34m)\u001b[0m\u001b[0;34m\u001b[0m\u001b[0;34m\u001b[0m\u001b[0m\n\u001b[1;32m      3\u001b[0m     \u001b[0mw0\u001b[0m \u001b[0;34m=\u001b[0m \u001b[0;36m1\u001b[0m\u001b[0;34m/\u001b[0m\u001b[0mcounts\u001b[0m\u001b[0;34m[\u001b[0m\u001b[0;36m0\u001b[0m\u001b[0;34m]\u001b[0m\u001b[0;34m\u001b[0m\u001b[0;34m\u001b[0m\u001b[0m\n\u001b[0;32m----> 4\u001b[0;31m     \u001b[0mw1\u001b[0m \u001b[0;34m=\u001b[0m \u001b[0;36m1\u001b[0m\u001b[0;34m/\u001b[0m\u001b[0mcounts\u001b[0m\u001b[0;34m[\u001b[0m\u001b[0;36m1\u001b[0m\u001b[0;34m]\u001b[0m\u001b[0;34m\u001b[0m\u001b[0;34m\u001b[0m\u001b[0m\n\u001b[0m\u001b[1;32m      5\u001b[0m     \u001b[0;32mreturn\u001b[0m \u001b[0mlog_loss\u001b[0m\u001b[0;34m(\u001b[0m\u001b[0my_true\u001b[0m\u001b[0;34m,\u001b[0m\u001b[0my_pred\u001b[0m\u001b[0;34m,\u001b[0m\u001b[0msample_weight\u001b[0m\u001b[0;34m=\u001b[0m\u001b[0mnp\u001b[0m\u001b[0;34m.\u001b[0m\u001b[0mwhere\u001b[0m\u001b[0;34m(\u001b[0m\u001b[0my_true\u001b[0m\u001b[0;34m,\u001b[0m\u001b[0mw1\u001b[0m\u001b[0;34m,\u001b[0m\u001b[0mw0\u001b[0m\u001b[0;34m)\u001b[0m\u001b[0;34m,\u001b[0m\u001b[0meps\u001b[0m\u001b[0;34m=\u001b[0m\u001b[0;36m1e-15\u001b[0m\u001b[0;34m)\u001b[0m\u001b[0;34m\u001b[0m\u001b[0;34m\u001b[0m\u001b[0m\n",
      "\u001b[0;31mIndexError\u001b[0m: index 1 is out of bounds for axis 0 with size 1"
     ]
    }
   ],
   "source": [
    "skf = StratifiedShuffleSplit(n_splits=5, test_size=0.2, random_state=random_state)\n",
    "\n",
    "\n",
    "models = {}\n",
    "y_hats = {}\n",
    "ys = {}\n",
    "matrix = {}\n",
    "score = {}\n",
    "\n",
    "\n",
    "for i, (train_index, test_index) in enumerate(skf.split(X2, y)):  \n",
    "    # Split\n",
    "    X_train, X_val = X.iloc[train_index, :], X.iloc[test_index, :]\n",
    "    y_train, y_val = y.iloc[train_index], y.iloc[test_index]\n",
    "\n",
    "    # Add missing values\n",
    "    imp = KNNImputer(weights = 'distance', n_neighbors=20).fit(X_train)\n",
    "\n",
    "    X_train = pd.DataFrame(imp.transform(X_train), index = X_train.index, columns = X_train.columns)\n",
    "    X_val = pd.DataFrame(imp.transform(X_val), index = X_val.index, columns = X_val.columns)\n",
    "    X_test = pd.DataFrame(imp.transform(test), index = test.index, columns = test.columns)\n",
    "    \n",
    "    # Scale data\n",
    "    scaler = StandardScaler().fit(X_train)\n",
    "\n",
    "    X_train = pd.DataFrame(scaler.transform(X_train), index = X_train.index, columns = X_train.columns)\n",
    "    X_val = pd.DataFrame(scaler.transform(X_val), index = X_val.index, columns = X_val.columns)\n",
    "    X_test = pd.DataFrame(scaler.transform(test), index = test.index, columns = test.columns)\n",
    "\n",
    "    # train a gradient boost with high n_estimator, max_depth\n",
    "\n",
    "    #gb = GradientBoostingClassifier(learning_rate = 0.001, n_estimators = 1000, max_depth = 12)\n",
    "    #gb.fit(X_train, y_train)\n",
    "\n",
    "    scale_pos_weight = len(y_train[y_train == 1]) / len(y_train[y_train == 0])\n",
    "\n",
    "    param = {'objective': 'binary', \n",
    "             #'is_unbalance':True,\n",
    "             #'scale_pos_weight' : scale_pos_weight,\n",
    "             'n_estimatros':100,\n",
    "             'learning_rate':0.005,\n",
    "             'num_leaves':5,\n",
    "             'subsample':0.8,\n",
    "             'colsample_bytree':0.50,\n",
    "             'reg_alpha':2,\n",
    "             'is_unbalance':True,\n",
    "             'reg_lambda':4\n",
    "             }\n",
    "#\n",
    "    gb = lgb.LGBMClassifier(**param).fit(X_train, y_train)\n",
    "    #                                     eval_set=(X_val, y_val),\n",
    "    #                                     eval_metric = class_weighted_log_loss,\n",
    "    #                                     callbacks=[lgb.early_stopping(20, verbose=0)])\n",
    "\n",
    "    # Predict\n",
    "    yhat_train = gb.predict(X_train)\n",
    "    yhat_val = gb.predict(X_val)\n",
    "    yhat_test = gb.predict(X_test)\n",
    "\n",
    "    # Store\n",
    "    val_name = str(i) + '-val'\n",
    "    train_name = str(i) + '-train'\n",
    "\n",
    "    ys[train_name] = y_train\n",
    "    y_hats[train_name] = yhat_train\n",
    "\n",
    "    ys[val_name] = y_val\n",
    "    y_hats[val_name] = yhat_val\n",
    "\n",
    "    matrix[train_name] = confusion_matrix(y_train, yhat_train)\n",
    "    matrix[val_name] = confusion_matrix(y_val, yhat_val)\n",
    "\n",
    "    score[i] = [f1_score(yhat_train, y_train), f1_score(yhat_val, y_val), accuracy_score(yhat_train, y_train), accuracy_score(yhat_val, y_val), class_weighted_log_loss(yhat_train, y_train), class_weighted_log_loss(yhat_val, y_val)]\n",
    "\n",
    "    models[i] = gb\n"
   ]
  },
  {
   "cell_type": "code",
   "execution_count": null,
   "metadata": {},
   "outputs": [],
   "source": [
    "class_weighted_log_loss(yhat_val, y_val)"
   ]
  },
  {
   "cell_type": "code",
   "execution_count": null,
   "metadata": {},
   "outputs": [],
   "source": [
    "pd.DataFrame(score).round(2).T"
   ]
  },
  {
   "cell_type": "code",
   "execution_count": null,
   "metadata": {},
   "outputs": [],
   "source": [
    "len(y_val) - y_val.sum()"
   ]
  },
  {
   "cell_type": "code",
   "execution_count": null,
   "metadata": {},
   "outputs": [],
   "source": [
    "gb0_matrix = np.mean([matrix[x] for x in matrix if 'val' in x], axis = 0)\n",
    "sns.heatmap(100*gb0_matrix/gb0_matrix.sum(), cmap = 'viridis', annot=True,  fmt = '.2f', square=1, linewidth=1.)\n",
    "plt.ylabel('True')\n",
    "plt.xlabel('pred')"
   ]
  },
  {
   "cell_type": "code",
   "execution_count": null,
   "metadata": {},
   "outputs": [],
   "source": [
    "mean_importance = np.mean([models[x].feature_importances_ for x in models], axis = 0)\n",
    "mean_importance = pd.Series(index = X.columns, data = mean_importance).sort_values(ascending=False)"
   ]
  },
  {
   "cell_type": "code",
   "execution_count": null,
   "metadata": {},
   "outputs": [],
   "source": [
    "# Add features\n",
    "\n",
    "epsilon = 1e-10\n",
    "\n",
    "features = X.iloc[:, 0:-2].columns\n",
    "l = []\n",
    "for f1 in features:\n",
    "    for f2 in features:\n",
    "        name = f1+'/'+f2\n",
    "        if f1 != f2 and name not in l:\n",
    "            X[name] = X.loc[:, f1].values / (X.loc[:, f2].values + epsilon)\n",
    "            test[name] = test.loc[:, f1].values / (test.loc[:, f2].values + epsilon)\n",
    "            l.append(name)\n",
    "\n",
    "X['Random'] = np.random.rand(X.shape[0], 1)\n",
    "test['Random'] = np.random.rand(test.shape[0], 1)"
   ]
  },
  {
   "cell_type": "code",
   "execution_count": null,
   "metadata": {},
   "outputs": [],
   "source": [
    "X = X.loc[:,mean_importance[mean_importance >= mean_importance['Random']].index]\n",
    "test = test.loc[:, mean_importance[mean_importance >= mean_importance['Random']].index]"
   ]
  },
  {
   "cell_type": "code",
   "execution_count": null,
   "metadata": {},
   "outputs": [],
   "source": [
    "skf = StratifiedShuffleSplit(n_splits=4, test_size=0.25, random_state=random_state)\n",
    "\n",
    "\n",
    "models = {}\n",
    "y_hats = {}\n",
    "ys = {}\n",
    "matrix = {}\n",
    "score = {}\n",
    "\n",
    "\n",
    "for i, (train_index, test_index) in enumerate(skf.split(X2, y)):  \n",
    "    # Split\n",
    "    X_train, X_val = X.iloc[train_index, :], X.iloc[test_index, :]\n",
    "    y_train, y_val = y.iloc[train_index], y.iloc[test_index]\n",
    "\n",
    "    # Add missing values\n",
    "    imp = KNNImputer(weights = 'distance', n_neighbors=20).fit(X_train)\n",
    "\n",
    "    X_train = pd.DataFrame(imp.transform(X_train), index = X_train.index, columns = X_train.columns)\n",
    "    X_val = pd.DataFrame(imp.transform(X_val), index = X_val.index, columns = X_val.columns)\n",
    "    X_test = pd.DataFrame(imp.transform(test), index = test.index, columns = test.columns)\n",
    "\n",
    "    # Scale data\n",
    "    scaler = StandardScaler().fit(X_train)\n",
    "\n",
    "    X_train = pd.DataFrame(scaler.transform(X_train), index = X_train.index, columns = X_train.columns)\n",
    "    X_val = pd.DataFrame(scaler.transform(X_val), index = X_val.index, columns = X_val.columns)\n",
    "    X_test = pd.DataFrame(scaler.transform(test), index = test.index, columns = test.columns)\n",
    "\n",
    "    # train a gradient boost with high n_estimator, max_depth\n",
    "\n",
    "    #gb = GradientBoostingClassifier(learning_rate = 0.01, n_estimators = 100, max_depth = 2)\n",
    "    #gb.fit(X_train, y_train)\n",
    "    \n",
    "    #param = {'num_leaves': 600, 'objective': 'binary', 'n_estimators':50, 'metric':'logloss', 'max_depth':None,'is_unbalance':True}\n",
    "    param = {'objective': 'binary', 'metric':'logloss', 'max_depth':None, 'is_unbalance':True, 'subsample':0.5}\n",
    "\n",
    "    gb = lgb.LGBMClassifier(**param).fit(X_train, y_train)\n",
    "    \n",
    "    # Predict\n",
    "    yhat_train = gb.predict(X_train)\n",
    "    yhat_val = gb.predict(X_val)\n",
    "    yhat_test = gb.predict(X_test)\n",
    "\n",
    "    # Store\n",
    "    val_name = str(i) + '-val'\n",
    "    train_name = str(i) + '-train'\n",
    "\n",
    "    ys[train_name] = y_train\n",
    "    y_hats[train_name] = yhat_train\n",
    "\n",
    "    ys[val_name] = y_val\n",
    "    y_hats[val_name] = yhat_val\n",
    "\n",
    "    matrix[train_name] = confusion_matrix(y_train, yhat_train)\n",
    "    matrix[val_name] = confusion_matrix(y_val, yhat_val)\n",
    "\n",
    "    score[i] = [f1_score(yhat_train, y_train), f1_score(yhat_val, y_val), accuracy_score(yhat_train, y_train), accuracy_score(yhat_val, y_val)]\n",
    "\n",
    "    models[i] = gb\n"
   ]
  },
  {
   "cell_type": "code",
   "execution_count": null,
   "metadata": {},
   "outputs": [],
   "source": [
    "gb0_matrix = np.mean([matrix[x] for x in matrix if 'val' in x], axis = 0)\n",
    "sns.heatmap(100*gb0_matrix/gb0_matrix.sum(), cmap = 'viridis', annot=True,  fmt = '.2f', square=1, linewidth=1.)\n",
    "plt.ylabel('True')\n",
    "plt.xlabel('pred')"
   ]
  },
  {
   "cell_type": "code",
   "execution_count": null,
   "metadata": {},
   "outputs": [],
   "source": [
    "score"
   ]
  },
  {
   "cell_type": "code",
   "execution_count": null,
   "metadata": {},
   "outputs": [],
   "source": [
    "mean_importance = np.mean([models[x].feature_importances_ for x in models], axis = 0)\n",
    "mean_importance = pd.Series(index = X.columns, data = mean_importance).sort_values(ascending=False)"
   ]
  },
  {
   "cell_type": "code",
   "execution_count": null,
   "metadata": {},
   "outputs": [],
   "source": [
    "X = X.loc[:,mean_importance[mean_importance >= mean_importance['Random']].index]\n",
    "test = test.loc[:, mean_importance[mean_importance >= mean_importance['Random']].index]"
   ]
  },
  {
   "cell_type": "code",
   "execution_count": null,
   "metadata": {},
   "outputs": [],
   "source": [
    "mean_importance"
   ]
  }
 ],
 "metadata": {
  "kernelspec": {
   "display_name": "tf",
   "language": "python",
   "name": "python3"
  },
  "language_info": {
   "codemirror_mode": {
    "name": "ipython",
    "version": 3
   },
   "file_extension": ".py",
   "mimetype": "text/x-python",
   "name": "python",
   "nbconvert_exporter": "python",
   "pygments_lexer": "ipython3",
   "version": "3.6.8"
  },
  "orig_nbformat": 4
 },
 "nbformat": 4,
 "nbformat_minor": 2
}
